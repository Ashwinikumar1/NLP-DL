{
 "cells": [
  {
   "cell_type": "markdown",
   "metadata": {},
   "source": [
    "#### Objective : This code make use of complaint data against financial companies to perform following tasks on the data\n",
    "    1. Create Topic models to classify comlplaints in various categories.\n",
    "    2. We will do test preprcessingw here which remove all token which belong to org and other preprocessing\n",
    "    3. We will try out two Topic Modelling Algorithms\n",
    "        1. Latent Dirichtlet ALogorithm - In my exp does not work well on short text data\n",
    "        2. Non Negative Matrix factorisation"
   ]
  },
  {
   "cell_type": "markdown",
   "metadata": {},
   "source": [
    "#### About the Dataset\n",
    "The dataset comprises of Consumer Complaints on Financial products and we’ll see how to classify consumer complaints text into these categories: Debt collection, Consumer Loan, Mortgage, Credit card, Credit reporting, Student loan, Bank account or service, Payday loan, Money transfers, Other financial service, Prepaid card.\n",
    "Also we will try to identify the companies from the dataset"
   ]
  },
  {
   "cell_type": "markdown",
   "metadata": {},
   "source": [
    "#### Import the required package"
   ]
  },
  {
   "cell_type": "code",
   "execution_count": 140,
   "metadata": {},
   "outputs": [],
   "source": [
    "import pandas as pd\n",
    "%matplotlib inline\n",
    "from matplotlib import pyplot as plt\n",
    "import nltk\n",
    "import spacy\n",
    "import seaborn as sns\n",
    "import pickle\n",
    "from nltk.stem import PorterStemmer\n",
    "import string"
   ]
  },
  {
   "cell_type": "markdown",
   "metadata": {},
   "source": [
    "### Read the complaints data csv"
   ]
  },
  {
   "cell_type": "code",
   "execution_count": 141,
   "metadata": {},
   "outputs": [
    {
     "name": "stderr",
     "output_type": "stream",
     "text": [
      "C:\\Users\\ash\\Anaconda3\\lib\\site-packages\\IPython\\core\\interactiveshell.py:3057: DtypeWarning: Columns (5,11) have mixed types. Specify dtype option on import or set low_memory=False.\n",
      "  interactivity=interactivity, compiler=compiler, result=result)\n"
     ]
    }
   ],
   "source": [
    "complaint_data = pd.read_csv(\"Consumer_Complaints.csv\")"
   ]
  },
  {
   "cell_type": "code",
   "execution_count": 142,
   "metadata": {},
   "outputs": [
    {
     "data": {
      "text/plain": [
       "Index(['date_received', 'product', 'sub_product', 'issue', 'sub_issue',\n",
       "       'consumer_complaint_narrative', 'company_public_response', 'company',\n",
       "       'state', 'zip_code', 'tags', 'consumer_consent_provided?',\n",
       "       'submitted_via', 'date_sent_to_company', 'company_response_to_consumer',\n",
       "       'timely_response?', 'consumer_disputed?', 'complaint_id'],\n",
       "      dtype='object')"
      ]
     },
     "execution_count": 142,
     "metadata": {},
     "output_type": "execute_result"
    }
   ],
   "source": [
    "### Convert the columns names so that they don't have space and are more readable\n",
    "complaint_data.columns = [i.lower().replace(\" \",\"_\").replace(\"-\",\"_\") for i in complaint_data.columns]\n",
    "complaint_data.columns"
   ]
  },
  {
   "cell_type": "markdown",
   "metadata": {},
   "source": [
    "### Lets understand the shape an dtypes of the data"
   ]
  },
  {
   "cell_type": "code",
   "execution_count": 143,
   "metadata": {},
   "outputs": [
    {
     "name": "stdout",
     "output_type": "stream",
     "text": [
      "The shape of data is  (670598, 18)\n",
      "The data types for our data are as follows \n"
     ]
    }
   ],
   "source": [
    "print (\"The shape of data is \",complaint_data.shape)\n",
    "print (\"The data types for our data are as follows \")\n"
   ]
  },
  {
   "cell_type": "code",
   "execution_count": 144,
   "metadata": {},
   "outputs": [
    {
     "name": "stdout",
     "output_type": "stream",
     "text": [
      " The number of unique values in each column is as follows\n"
     ]
    },
    {
     "data": {
      "text/html": [
       "<div>\n",
       "<style scoped>\n",
       "    .dataframe tbody tr th:only-of-type {\n",
       "        vertical-align: middle;\n",
       "    }\n",
       "\n",
       "    .dataframe tbody tr th {\n",
       "        vertical-align: top;\n",
       "    }\n",
       "\n",
       "    .dataframe thead th {\n",
       "        text-align: right;\n",
       "    }\n",
       "</style>\n",
       "<table border=\"1\" class=\"dataframe\">\n",
       "  <thead>\n",
       "    <tr style=\"text-align: right;\">\n",
       "      <th></th>\n",
       "      <th>index</th>\n",
       "      <th>count</th>\n",
       "      <th>unique</th>\n",
       "      <th>top</th>\n",
       "      <th>freq</th>\n",
       "    </tr>\n",
       "  </thead>\n",
       "  <tbody>\n",
       "    <tr>\n",
       "      <th>0</th>\n",
       "      <td>date_received</td>\n",
       "      <td>670598</td>\n",
       "      <td>1818</td>\n",
       "      <td>08/27/2015</td>\n",
       "      <td>963</td>\n",
       "    </tr>\n",
       "    <tr>\n",
       "      <th>1</th>\n",
       "      <td>product</td>\n",
       "      <td>670598</td>\n",
       "      <td>12</td>\n",
       "      <td>Mortgage</td>\n",
       "      <td>210324</td>\n",
       "    </tr>\n",
       "    <tr>\n",
       "      <th>2</th>\n",
       "      <td>sub_product</td>\n",
       "      <td>472396</td>\n",
       "      <td>47</td>\n",
       "      <td>Other mortgage</td>\n",
       "      <td>81715</td>\n",
       "    </tr>\n",
       "    <tr>\n",
       "      <th>3</th>\n",
       "      <td>issue</td>\n",
       "      <td>670598</td>\n",
       "      <td>95</td>\n",
       "      <td>Loan modification,collection,foreclosure</td>\n",
       "      <td>106455</td>\n",
       "    </tr>\n",
       "    <tr>\n",
       "      <th>4</th>\n",
       "      <td>sub_issue</td>\n",
       "      <td>269868</td>\n",
       "      <td>68</td>\n",
       "      <td>Account status</td>\n",
       "      <td>32633</td>\n",
       "    </tr>\n",
       "    <tr>\n",
       "      <th>5</th>\n",
       "      <td>consumer_complaint_narrative</td>\n",
       "      <td>114704</td>\n",
       "      <td>112690</td>\n",
       "      <td>I am filing this complaint because Experian ha...</td>\n",
       "      <td>102</td>\n",
       "    </tr>\n",
       "    <tr>\n",
       "      <th>6</th>\n",
       "      <td>company_public_response</td>\n",
       "      <td>145197</td>\n",
       "      <td>10</td>\n",
       "      <td>Company has responded to the consumer and the ...</td>\n",
       "      <td>57364</td>\n",
       "    </tr>\n",
       "    <tr>\n",
       "      <th>7</th>\n",
       "      <td>company</td>\n",
       "      <td>670598</td>\n",
       "      <td>3933</td>\n",
       "      <td>Bank of America</td>\n",
       "      <td>61720</td>\n",
       "    </tr>\n",
       "    <tr>\n",
       "      <th>8</th>\n",
       "      <td>state</td>\n",
       "      <td>665293</td>\n",
       "      <td>62</td>\n",
       "      <td>CA</td>\n",
       "      <td>97640</td>\n",
       "    </tr>\n",
       "    <tr>\n",
       "      <th>9</th>\n",
       "      <td>zip_code</td>\n",
       "      <td>665274</td>\n",
       "      <td>27889</td>\n",
       "      <td>300XX</td>\n",
       "      <td>2147</td>\n",
       "    </tr>\n",
       "    <tr>\n",
       "      <th>10</th>\n",
       "      <td>tags</td>\n",
       "      <td>94730</td>\n",
       "      <td>3</td>\n",
       "      <td>Older American</td>\n",
       "      <td>54881</td>\n",
       "    </tr>\n",
       "    <tr>\n",
       "      <th>11</th>\n",
       "      <td>consumer_consent_provided?</td>\n",
       "      <td>208151</td>\n",
       "      <td>4</td>\n",
       "      <td>Consent provided</td>\n",
       "      <td>114704</td>\n",
       "    </tr>\n",
       "    <tr>\n",
       "      <th>12</th>\n",
       "      <td>submitted_via</td>\n",
       "      <td>670598</td>\n",
       "      <td>6</td>\n",
       "      <td>Web</td>\n",
       "      <td>446035</td>\n",
       "    </tr>\n",
       "    <tr>\n",
       "      <th>13</th>\n",
       "      <td>date_sent_to_company</td>\n",
       "      <td>670598</td>\n",
       "      <td>1767</td>\n",
       "      <td>11/13/2015</td>\n",
       "      <td>1108</td>\n",
       "    </tr>\n",
       "    <tr>\n",
       "      <th>14</th>\n",
       "      <td>company_response_to_consumer</td>\n",
       "      <td>670598</td>\n",
       "      <td>8</td>\n",
       "      <td>Closed with explanation</td>\n",
       "      <td>493981</td>\n",
       "    </tr>\n",
       "    <tr>\n",
       "      <th>15</th>\n",
       "      <td>timely_response?</td>\n",
       "      <td>670598</td>\n",
       "      <td>2</td>\n",
       "      <td>Yes</td>\n",
       "      <td>652848</td>\n",
       "    </tr>\n",
       "    <tr>\n",
       "      <th>16</th>\n",
       "      <td>consumer_disputed?</td>\n",
       "      <td>629179</td>\n",
       "      <td>2</td>\n",
       "      <td>No</td>\n",
       "      <td>496466</td>\n",
       "    </tr>\n",
       "  </tbody>\n",
       "</table>\n",
       "</div>"
      ],
      "text/plain": [
       "                           index   count  unique  \\\n",
       "0                  date_received  670598    1818   \n",
       "1                        product  670598      12   \n",
       "2                    sub_product  472396      47   \n",
       "3                          issue  670598      95   \n",
       "4                      sub_issue  269868      68   \n",
       "5   consumer_complaint_narrative  114704  112690   \n",
       "6        company_public_response  145197      10   \n",
       "7                        company  670598    3933   \n",
       "8                          state  665293      62   \n",
       "9                       zip_code  665274   27889   \n",
       "10                          tags   94730       3   \n",
       "11    consumer_consent_provided?  208151       4   \n",
       "12                 submitted_via  670598       6   \n",
       "13          date_sent_to_company  670598    1767   \n",
       "14  company_response_to_consumer  670598       8   \n",
       "15              timely_response?  670598       2   \n",
       "16            consumer_disputed?  629179       2   \n",
       "\n",
       "                                                  top    freq  \n",
       "0                                          08/27/2015     963  \n",
       "1                                            Mortgage  210324  \n",
       "2                                      Other mortgage   81715  \n",
       "3            Loan modification,collection,foreclosure  106455  \n",
       "4                                      Account status   32633  \n",
       "5   I am filing this complaint because Experian ha...     102  \n",
       "6   Company has responded to the consumer and the ...   57364  \n",
       "7                                     Bank of America   61720  \n",
       "8                                                  CA   97640  \n",
       "9                                               300XX    2147  \n",
       "10                                     Older American   54881  \n",
       "11                                   Consent provided  114704  \n",
       "12                                                Web  446035  \n",
       "13                                         11/13/2015    1108  \n",
       "14                            Closed with explanation  493981  \n",
       "15                                                Yes  652848  \n",
       "16                                                 No  496466  "
      ]
     },
     "execution_count": 144,
     "metadata": {},
     "output_type": "execute_result"
    }
   ],
   "source": [
    "### All the varables are text - which may correspond to categories and other variables\n",
    "print (\" The number of unique values in each column is as follows\")\n",
    "### Lets do a describe with including objects\n",
    "complaint_data.describe(include = 'object').T.reset_index()\n"
   ]
  },
  {
   "cell_type": "markdown",
   "metadata": {},
   "source": [
    "######  From above description we see that only 114704 rows have complaint text and as we are interested in only those row which have complaint text. We wll drop all rows where complaint narrative is na"
   ]
  },
  {
   "cell_type": "code",
   "execution_count": 145,
   "metadata": {},
   "outputs": [],
   "source": [
    "#### Keep only the consumer complaints is not null\n",
    "complaint_data = complaint_data[~complaint_data['consumer_complaint_narrative'].isna()]"
   ]
  },
  {
   "cell_type": "code",
   "execution_count": 146,
   "metadata": {},
   "outputs": [
    {
     "data": {
      "text/plain": [
       "<matplotlib.axes._subplots.AxesSubplot at 0x29b8e518>"
      ]
     },
     "execution_count": 146,
     "metadata": {},
     "output_type": "execute_result"
    },
    {
     "data": {
      "image/png": "[encoded data removed]",
      "text/plain": [
       "<Figure size 432x288 with 1 Axes>"
      ]
     },
     "metadata": {
      "needs_background": "light"
     },
     "output_type": "display_data"
    }
   ],
   "source": [
    "#### Create a distirbution of length of customers complaints. We have very left skew in length of complaints\n",
    "### Which is expected as most compalints can be written in less than 500 words\n",
    "complaint_data['consumer_complaint_narrative'].apply(len).plot(kind = 'hist')"
   ]
  },
  {
   "cell_type": "code",
   "execution_count": 147,
   "metadata": {},
   "outputs": [],
   "source": [
    "### Keep the length columns as a new column\n",
    "complaint_data['comp_length'] = complaint_data['consumer_complaint_narrative'].apply(len)\n",
    "complaint_data.reset_index(inplace = True)\n",
    "complaint_data['consumer_complaint_narrative'] = complaint_data['consumer_complaint_narrative'].str.replace(r\"XX+\\s\",\"\")\n",
    "complaint_data['consumer_complaint_narrative'] = complaint_data['consumer_complaint_narrative'].str.replace(\"XXXX\",\"\")"
   ]
  },
  {
   "cell_type": "code",
   "execution_count": 148,
   "metadata": {},
   "outputs": [],
   "source": [
    "complaint_data = complaint_data.sample(frac = 0.5,random_state = 5)\n",
    "complaint_data.reset_index(inplace = True)"
   ]
  },
  {
   "cell_type": "markdown",
   "metadata": {},
   "source": [
    "### We will first craete the data processing pipeline to do cleaning on the data"
   ]
  },
  {
   "cell_type": "code",
   "execution_count": 149,
   "metadata": {},
   "outputs": [],
   "source": [
    "nlp = spacy.load('en_core_web_sm')\n",
    "### Remove the stop words using spacy predefined list \n",
    "stop_words = nlp.Defaults.stop_words\n",
    "#### Create a list of puntuation to be removed\n",
    "symbols = \" \".join(string.punctuation).split(\" \") \n",
    "### As we are doing topic modelling itsa good idea to do lemmatisation - as it uses morphologial analysis\n",
    "ps = PorterStemmer()\n",
    "import re\n",
    "#### Lets define the cleaning function and see how it works\n",
    "def cleanup_text(docs,logging = False):\n",
    "    texts = []\n",
    "    counter = 1\n",
    "    for doc in docs:\n",
    "        \n",
    "        if counter % 5000 == 0 :\n",
    "            print (\"Processed %d of out of %d documents\"% (counter,len(docs)))\n",
    "        counter += 1\n",
    "        \n",
    "        doc = nlp(doc) ### We are disabling parser as will nt be using it\n",
    "        \n",
    "        \n",
    "        tokens = [tok.lemma_.lower().strip() for tok in doc if tok.lemma_ != \"-PRON-\"]\n",
    "        \n",
    "        tokens =[tok for tok in tokens if tok not in symbols]\n",
    "        tokens = [tok for tok in tokens if tok not in stop_words]\n",
    "        tokens = [re.sub('[0-9]', '', i) for i in tokens]\n",
    "        tokens = ' '.join(tokens)\n",
    "        texts.append(tokens)\n",
    "    return (pd.Series(texts))"
   ]
  },
  {
   "cell_type": "code",
   "execution_count": 150,
   "metadata": {
    "scrolled": true
   },
   "outputs": [
    {
     "name": "stdout",
     "output_type": "stream",
     "text": [
      "Processed 5000 of out of 57352 documents\n",
      "Processed 10000 of out of 57352 documents\n",
      "Processed 15000 of out of 57352 documents\n",
      "Processed 20000 of out of 57352 documents\n",
      "Processed 25000 of out of 57352 documents\n",
      "Processed 30000 of out of 57352 documents\n",
      "Processed 35000 of out of 57352 documents\n",
      "Processed 40000 of out of 57352 documents\n",
      "Processed 45000 of out of 57352 documents\n",
      "Processed 50000 of out of 57352 documents\n",
      "Processed 55000 of out of 57352 documents\n"
     ]
    }
   ],
   "source": [
    "complaint_data['comp_preprocessed'] = cleanup_text(complaint_data['consumer_complaint_narrative'])"
   ]
  },
  {
   "cell_type": "code",
   "execution_count": 151,
   "metadata": {},
   "outputs": [
    {
     "name": "stdout",
     "output_type": "stream",
     "text": [
      "Shape of data before removing NA's , (57352, 22)\n",
      "Shape of data before removing NA's , (57352, 22)\n"
     ]
    }
   ],
   "source": [
    "print (\"Shape of data before removing NA's ,\",complaint_data.shape)\n",
    "complaint_data =complaint_data[~complaint_data['comp_preprocessed'].isna()]\n",
    "print (\"Shape of data before removing NA's ,\",complaint_data.shape)"
   ]
  },
  {
   "cell_type": "code",
   "execution_count": 161,
   "metadata": {},
   "outputs": [
    {
     "data": {
      "text/html": [
       "<div>\n",
       "<style scoped>\n",
       "    .dataframe tbody tr th:only-of-type {\n",
       "        vertical-align: middle;\n",
       "    }\n",
       "\n",
       "    .dataframe tbody tr th {\n",
       "        vertical-align: top;\n",
       "    }\n",
       "\n",
       "    .dataframe thead th {\n",
       "        text-align: right;\n",
       "    }\n",
       "</style>\n",
       "<table border=\"1\" class=\"dataframe\">\n",
       "  <thead>\n",
       "    <tr style=\"text-align: right;\">\n",
       "      <th></th>\n",
       "      <th>comp_preprocessed</th>\n",
       "      <th>consumer_complaint_narrative</th>\n",
       "    </tr>\n",
       "  </thead>\n",
       "  <tbody>\n",
       "    <tr>\n",
       "      <th>0</th>\n",
       "      <td>wells fargo need fee waiver issue end want rec...</td>\n",
       "      <td>I called Wells Fargo and I needed fee waiver d...</td>\n",
       "    </tr>\n",
       "    <tr>\n",
       "      <th>1</th>\n",
       "      <td>husband purchase mortgage . point gmac mortgag...</td>\n",
       "      <td>In my husband and I purchased a mortgage for t...</td>\n",
       "    </tr>\n",
       "    <tr>\n",
       "      <th>2</th>\n",
       "      <td>option cancel credit monitoring service online...</td>\n",
       "      <td>There is NO option for cancelling the credit m...</td>\n",
       "    </tr>\n",
       "    <tr>\n",
       "      <th>3</th>\n",
       "      <td>transunion bad incompetent lazy lie company fa...</td>\n",
       "      <td>Transunion has to be one of the worst, incompe...</td>\n",
       "    </tr>\n",
       "    <tr>\n",
       "      <th>4</th>\n",
       "      <td>complaint submit embrace home loans complaint ...</td>\n",
       "      <td>This is the complaint I am submitting against ...</td>\n",
       "    </tr>\n",
       "  </tbody>\n",
       "</table>\n",
       "</div>"
      ],
      "text/plain": [
       "                                   comp_preprocessed  \\\n",
       "0  wells fargo need fee waiver issue end want rec...   \n",
       "1  husband purchase mortgage . point gmac mortgag...   \n",
       "2  option cancel credit monitoring service online...   \n",
       "3  transunion bad incompetent lazy lie company fa...   \n",
       "4  complaint submit embrace home loans complaint ...   \n",
       "\n",
       "                        consumer_complaint_narrative  \n",
       "0  I called Wells Fargo and I needed fee waiver d...  \n",
       "1  In my husband and I purchased a mortgage for t...  \n",
       "2  There is NO option for cancelling the credit m...  \n",
       "3  Transunion has to be one of the worst, incompe...  \n",
       "4  This is the complaint I am submitting against ...  "
      ]
     },
     "execution_count": 161,
     "metadata": {},
     "output_type": "execute_result"
    }
   ],
   "source": [
    "complaint_data[['comp_preprocessed','consumer_complaint_narrative']].head(5)"
   ]
  },
  {
   "cell_type": "markdown",
   "metadata": {},
   "source": [
    "### Lets tranform the data using TFIDF vectoriser\n",
    "1. For learning purpose i am using only tf-idf , but inpractical it as advised to trial out count vectoriser also\n",
    "2. Also, all paarmeters in TF IDF can be treated as Hyperparameters"
   ]
  },
  {
   "cell_type": "code",
   "execution_count": 153,
   "metadata": {},
   "outputs": [
    {
     "name": "stdout",
     "output_type": "stream",
     "text": [
      "Extracting the tf-idf features form NMF\n",
      "done in 54.698s.\n"
     ]
    }
   ],
   "source": [
    "### Lets Create the piprle line for NMF models \n",
    "from time import time\n",
    "\n",
    "from sklearn.feature_extraction.text import TfidfVectorizer, CountVectorizer\n",
    "from sklearn.decomposition import NMF \n",
    "#####  Let extract from act the features from the dataset\n",
    "\n",
    "print (\"Extracting the tf-idf features form NMF\")\n",
    "tfidf_vectorizer = TfidfVectorizer(max_df = 0.5, min_df = 5, max_features = 500, ngram_range = (1,4))\n",
    "\n",
    "t0 = time()\n",
    "tfidf = tfidf_vectorizer.fit_transform(complaint_data['comp_preprocessed'])\n",
    "print (\"done in %0.3fs.\" % (time() - t0))"
   ]
  },
  {
   "cell_type": "code",
   "execution_count": 154,
   "metadata": {},
   "outputs": [
    {
     "name": "stdout",
     "output_type": "stream",
     "text": [
      "done in 80.173 \n",
      "done in 115.364 \n",
      "done in 226.496 \n",
      "done in 358.998 \n",
      "done in 404.155 \n",
      "done in 623.029 \n",
      "done in 571.576 \n",
      "done in 857.860 \n",
      "done in 847.983 \n",
      "done in 949.365 \n",
      "done in 1024.722 \n"
     ]
    }
   ],
   "source": [
    "#### Now we will fit model for 10 diff values of clusters\n",
    "n_comp = [10,20,30,40,50,60,70,80,90,100,110]\n",
    "loss = []\n",
    "for comps in n_comp:\n",
    "  \n",
    "    t0 = time()\n",
    "    nmf = NMF(n_components = comps, random_state = 1, beta_loss = 'kullback-leibler',solver = 'mu',max_iter = 200,\n",
    "             alpha = 0.1, l1_ratio = 0.5).fit(tfidf)\n",
    "    loss.append(nmf.reconstruction_err_)\n",
    "    print (\"done in %0.3f \" % (time() -t0))"
   ]
  },
  {
   "cell_type": "code",
   "execution_count": 155,
   "metadata": {},
   "outputs": [
    {
     "data": {
      "text/plain": [
       "Text(0, 0.5, 'Reconstruction Error - Frobenius Norm')"
      ]
     },
     "execution_count": 155,
     "metadata": {},
     "output_type": "execute_result"
    },
    {
     "data": {
      "image/png": "[encoded data removed]",
      "text/plain": [
       "<Figure size 432x288 with 1 Axes>"
      ]
     },
     "metadata": {
      "needs_background": "light"
     },
     "output_type": "display_data"
    }
   ],
   "source": [
    "### Let try to create a elbow and find out the best model clusters\n",
    "plt.plot(loss)\n",
    "plt.xlabel('Number of Topics')\n",
    "plt.ylabel('Reconstruction Error - Frobenius Norm')"
   ]
  },
  {
   "cell_type": "markdown",
   "metadata": {},
   "source": [
    "### Define a function which goes through - topic * word matrix and extract the top keywords"
   ]
  },
  {
   "cell_type": "code",
   "execution_count": 156,
   "metadata": {},
   "outputs": [],
   "source": [
    "def print_top_words(model, feature_names, n_top_words):\n",
    "    for topic_idx, topic in enumerate(model.components_):\n",
    "        message = \"Topic #%d: \" % topic_idx\n",
    "        message += \" \".join([feature_names[i]\n",
    "                             for i in topic.argsort()[:-n_top_words - 1:-1]])\n",
    "        print(message)\n",
    "    print()"
   ]
  },
  {
   "cell_type": "code",
   "execution_count": 157,
   "metadata": {},
   "outputs": [
    {
     "name": "stdout",
     "output_type": "stream",
     "text": [
      "Topic #0: situation understand way tell time feel explain finally good like\n",
      "Topic #1: report credit report credit account debt report credit account credit remove validate collection\n",
      "Topic #2: xx xx xx xx xx xx xx xx xx xx report credit report credit date report credit account credit\n",
      "Topic #3: account bank card debit bank account branch check check account banking credit card\n",
      "Topic #4: mortgage loan payment refinance lender mortgage payment current servicer home appraisal\n",
      "Topic #5: card credit card credit limit payment charge pay use cancel purchase\n",
      "Topic #6: payment late pay account late payment monthly monthly payment miss month set\n",
      "Topic #7: wells fargo wells fargo pay credit interest branch report high banking\n",
      "Topic #8: loan pay default bank school interest private high student dollar\n",
      "Topic #9: bank america bank america mortgage boa mortgage payment process foreclosure report letter\n",
      "Topic #10: tell pay money phone come talk check manager thing need\n",
      "Topic #11: pay bill medical pay bill charge billing care turn insurance company\n",
      "Topic #12: charge fee late fee overdraft late post total interest add refund\n",
      "Topic #13: collection agency collection agency letter send debt collection send letter receive inc correspondence\n",
      "Topic #14: phone number phone number different person hang collection repeatedly agency look\n",
      "Topic #15: verify file fcra ignore possible soon section dispute require delete\n",
      "Topic #16: chase branch interest rate policy high banking interest rate result manager\n",
      "Topic #17: company mortgage company knowledge insurance mortgage authorize collection rate inquire interest rate\n",
      "Topic #18: security social social security number information address id detail copy include\n",
      "Topic #19: inquiry credit hard authorize remove pull inquire run transunion follow\n",
      "Topic #20: identity theft identity theft victim police steal fraudulent id personal result\n",
      "Topic #21: interest rate interest rate high low increase term balance principal fix\n",
      "Topic #22: equifax dispute investigation file investigate update credit file attach status delete\n",
      "Topic #23: credit bureau credit bureau history information affect score cause reporting life\n",
      "Topic #24: representative service customer receive bill system customer service speak day inform\n",
      "Topic #25: dispute experian investigate investigation previously report file delete request respond\n",
      "Topic #26: attorney foreclosure file state sale review date prior note court\n",
      "Topic #27: check cash check account recently clear bad aware old write turn\n",
      "Topic #28: day late week later time wait period receive hour twice\n",
      "Topic #29: information personal request verify information credit inaccurate account verification provide incorrect\n",
      "Topic #30: money owe dollar send day plus hard refund withdraw service\n",
      "Topic #31: modification loan modification foreclosure deny payment home process review income approve\n",
      "Topic #32: file bankruptcy complaint credit file discharge file complaint include remove credit appear\n",
      "Topic #33: insurance policy cover damage responsible owner cost force escrow loss\n",
      "Topic #34: remove bureau credit bureau credit remove credit report credit immediately dispute negative directly\n",
      "Topic #35: year past old time long multiple period delinquent ago day\n",
      "Topic #36: address live current wrong remove previous incorrect list knowledge correct\n",
      "Topic #37: year ago year ago old pay month dollar start request run\n",
      "Topic #38: receive state information dispute letter false regard receive letter letter state confirm\n",
      "Topic #39: tell today ask add owe receive rep speak supervisor later\n",
      "Topic #40: transunion result cause negative remove inquire add affect delete drop\n",
      "Topic #41: reporting credit reporting agency reporting agency credit reporting agency credit dispute negative consumer fcra\n",
      "Topic #42: letter send send letter different company date letter state copy ask tell\n",
      "Topic #43: sale short short sale sell home property foreclosure value foreclose appraisal\n",
      "Topic #44: car vehicle finance auto lease title purchase buy pay sell\n",
      "Topic #45: balance update payoff status remain reflect current statement history detail\n",
      "Topic #46: score credit score drop point twice affect low reason fix time\n",
      "Topic #47: citi point bonus requirement meet offer spend confirm citibank promise\n",
      "Topic #48: service customer customer service cancel rep bad phone problem care llc\n",
      "Topic #49: fail provide proof office matter fact request claim prove documentation\n",
      "Topic #50: receive send mail request copy notice communication phone receipt email\n",
      "Topic #51: request response respond receive send time submit numerous fax contact\n",
      "Topic #52: ocwen servicing llc mortgage short payoff trust servicer sell sale\n",
      "Topic #53: try find send line thank happen buy think purchase reach\n",
      "Topic #54: time multiple line second include limit prior management repeatedly clearly\n",
      "Topic #55: home family lose work husband job buy paper away help\n",
      "Topic #56: contact inform debt regard tell longer representative pay company send letter\n",
      "Topic #57: collect attempt collect debt try question damage answer ask validate state\n",
      "Topic #58: month payment month end later total start suppose monthly dollar time\n",
      "Topic #59: close close account closing cost reason open fee final appraisal explanation\n",
      "Topic #60: debt paypal owe account verification sell debt collection collector bank account debt collector\n",
      "Topic #61: ask state answer question hang speak phone contact supervisor proceed\n",
      "Topic #62: open open account account open security date status currently co social social security\n",
      "Topic #63: notice law send notify paper right place state federal legal\n",
      "Topic #64: practice demand management party right illegal fact action violate fail\n",
      "Topic #65: work job good start lose longer stop final personal payment\n",
      "Topic #66: continue repeatedly harass numerous hour threaten security twice ask receive\n",
      "Topic #67: document need send fax paperwork form prove complete change sign\n",
      "Topic #68: number capital account number telephone reference type open appear case notice\n",
      "Topic #69: letter receive receive letter write verify attach phone time party demand\n",
      "Topic #70: like look right feel way think sure help people thank\n",
      "Topic #71: lien tax problem fix release title mistake error cause taxis\n",
      "Topic #72: student student loan navient private school co currently federal default tax\n",
      "Topic #73: program accept term agree plan contract option promise end agreement\n",
      "Topic #74: collector debt collector free obtain collect collect debt party attempt creditor original\n",
      "Topic #75: statement monthly review previous consumer billing explanation include practice monthly payment\n",
      "Topic #76: item delete judgment report remain account inaccurate hear negative update\n",
      "Topic #77: date stop debt harass start non account begin clearly citi\n",
      "Topic #78: claim fraud department activity investigation use deny investigate fraudulent place\n",
      "Topic #79: leave message today answer return phone hang reach office time\n",
      "Topic #80: sign contract copy husband signature come co reference leave paper\n",
      "Topic #81: court cash appear order case despite lie refuse false post\n",
      "Topic #82: collection act fair debt collection system violation section violate result follow\n",
      "Topic #83: return resolve issue submit process follow update support need document\n",
      "Topic #84: fund deposit hold access direct available release able clear banking\n",
      "Topic #85: apply deny principal approve base additional instead application income reason\n",
      "Topic #86: purchase nationstar allow believe website set online access term email\n",
      "Topic #87: creditor original violation fcra validate accord false act law fair\n",
      "Topic #88: place agreement agree original debt settle management pay settlement term\n",
      "Topic #89: escrow citibank taxis ditech increase mortgage refund pay mortgage payment change\n",
      "Topic #90: new change american express direct refuse cancel transfer previous find\n",
      "Topic #91: provide consumer documentation complaint website regard proof protection require fail\n",
      "Topic #92: transfer application process indicate complete approve apply fund advise different\n",
      "Topic #93: use transaction agent knowledge authorize id appear order online issue\n",
      "Topic #94: refuse people reason need different return illegal actually know practice\n",
      "Topic #95: try issue resolve explain clear talk hold department responsible refuse\n",
      "Topic #96: email legal threaten action family person receive husband demand regard\n",
      "Topic #97: help wife income assistance thank able need afford financial live\n",
      "Topic #98: mail person continue negative longer financial allow place business services\n",
      "Topic #99: know let write mother wife navient attorney law school ditech\n",
      "Topic #100: ve property find unable attempt pass owner inc obtain payoff\n",
      "Topic #101: list offer settlement settle accept type union website attach clear\n",
      "Topic #102: want house submit sell buy come finance previous wife paperwork\n",
      "Topic #103: record speak advise proof representative supervisor manager conversation continue rep\n",
      "Topic #104: case recovery attach complaint cfpb response note inc record trust\n",
      "Topic #105: online order week lender law able new office attorney advise\n",
      "Topic #106: business info want personal system deal mail etc longer hour\n",
      "Topic #107: financial fraudulent services boa immediately answer believe etc info employee\n",
      "Topic #108: refund discover union cancel lease like investigate respond error history\n",
      "Topic #109: correct error incorrect wrong validation debit mistake fix current account\n",
      "\n"
     ]
    }
   ],
   "source": [
    "print_top_words(nmf, tfidf_vectorizer.get_feature_names(), 10)"
   ]
  },
  {
   "cell_type": "code",
   "execution_count": 158,
   "metadata": {},
   "outputs": [],
   "source": [
    "from sklearn.decomposition import LatentDirichletAllocation"
   ]
  },
  {
   "cell_type": "code",
   "execution_count": 159,
   "metadata": {},
   "outputs": [
    {
     "name": "stdout",
     "output_type": "stream",
     "text": [
      "done in 31.134s.\n",
      "done in 30.564s.\n",
      "done in 32.144s.\n",
      "done in 33.306s.\n",
      "done in 34.599s.\n"
     ]
    }
   ],
   "source": [
    "# Fit the NMF model\n",
    "#### Now we will fit model for 10 diff values of clusters\n",
    "n_comp = [10,20,30,40,50]\n",
    "\n",
    "for comps in n_comp:\n",
    "    loss1 = []\n",
    "    t0 = time()\n",
    "    lda = LatentDirichletAllocation(n_components=comps, max_iter=2,\n",
    "                                learning_method='online',\n",
    "                                learning_offset=50.,\n",
    "                                random_state=0)\n",
    "    lda.fit(tfidf)\n",
    "    print(\"done in %0.3fs.\" % (time() - t0))"
   ]
  },
  {
   "cell_type": "code",
   "execution_count": 160,
   "metadata": {},
   "outputs": [
    {
     "name": "stdout",
     "output_type": "stream",
     "text": [
      "Topic #0: bill insurance medical pay collection pay bill owe company receive service\n",
      "Topic #1: score credit credit score report card limit drop credit card credit report history\n",
      "Topic #2: modification loan mortgage home loan modification payment appraisal document tell time\n",
      "Topic #3: debt letter court send state receive send letter judgment owe verification\n",
      "Topic #4: equifax report dispute credit account information credit report item investigation file\n",
      "Topic #5: sale foreclosure property mortgage home loan short short sale bank foreclose\n",
      "Topic #6: theft identity identity theft report validation account debt credit victim information\n",
      "Topic #7: open citi account account open open account settlement card close credit card credit\n",
      "Topic #8: contract inc agreement sign signature term agree copy support service\n",
      "Topic #9: bankruptcy discharge year ago ago year file report list credit account\n",
      "Topic #10: principal payment apply monthly monthly payment twice loan interest additional pay\n",
      "Topic #11: services financial llc consumer protection trust evidence notify bureau federal\n",
      "Topic #12: sale bank account signature immediately account open delete court finance complaint appear\n",
      "Topic #13: bureau credit bureau report credit report credit inaccurate mortgage debt late addition\n",
      "Topic #14: mortgage escrow payment ocwen insurance taxis loan pay nationstar month\n",
      "Topic #15: account deposit bank check money fund branch tell access day\n",
      "Topic #16: capital fraud card account fraudulent credit charge steal police credit card\n",
      "Topic #17: union cash check money dollar inquire bank cancel federal send\n",
      "Topic #18: wells fargo wells fargo account loan mortgage bank payment home check\n",
      "Topic #19: ditech servicing application fax mortgage servicer submit request form correspondence\n",
      "Topic #20: free run resolution approve advise increase proceed second loan report\n",
      "Topic #21: interest rate interest rate loan payment pay balance high charge month\n",
      "Topic #22: card credit card credit american express charge account use pay receive\n",
      "Topic #23: payment plan month pay set loan tell payment month time account\n",
      "Topic #24: job work lender lose paper place loss loan tell threaten\n",
      "Topic #25: tell speak supervisor payment ask receive account time representative phone\n",
      "Topic #26: debt collector collect collect debt debt collector owe attempt management company try\n",
      "Topic #27: report credit credit report experian remove account remove credit dispute account credit information\n",
      "Topic #28: citibank bonus citi offer requirement meet account point card open\n",
      "Topic #29: number phone phone number message debt leave tell company hang ask\n",
      "Topic #30: chase lien tax release payoff title bank pay credit state\n",
      "Topic #31: fee charge account bank overdraft transaction debit check card money\n",
      "Topic #32: additional requirement mortgage violation escrow let practice credit reporting credit file pass\n",
      "Topic #33: collection debt collection agency agency credit report debt collection pay account recovery\n",
      "Topic #34: number repeatedly ve account number husband hour person different continue company\n",
      "Topic #35: america bank america bank boa account check charge card loan mortgage\n",
      "Topic #36: inquiry transunion credit report verify credit report dispute hard remove delete\n",
      "Topic #37: address live mother wrong report incorrect old correct credit report information\n",
      "Topic #38: loan student student loan navient payment school pay private default month\n",
      "Topic #39: interest rate value refuse services today unable reporting right copy explain\n",
      "Topic #40: threaten debt violation legal action act law violate notification telephone\n",
      "Topic #41: paypal close account close account bank card credit pay balance use\n",
      "Topic #42: reporting credit reporting credit reporting agency report agency credit reporting agency information dispute credit report\n",
      "Topic #43: stop harass day time phone work tell house home pay\n",
      "Topic #44: car vehicle lease finance auto loan purchase title pay payment\n",
      "Topic #45: settle balance creditor owe pay account close later answer report\n",
      "Topic #46: discover service customer customer service refund website billing card bad use\n",
      "Topic #47: social security social security number wife credit id question address card\n",
      "Topic #48: late payment fee late fee late payment charge pay statement day month\n",
      "Topic #49: xx xx xx xx xx xx payment xx xx xx xx account credit pay report loan\n",
      "\n"
     ]
    }
   ],
   "source": [
    "print_top_words(lda, tfidf_vectorizer.get_feature_names(), 10)"
   ]
  },
  {
   "cell_type": "markdown",
   "metadata": {},
   "source": [
    "### Next Steps\n",
    "1. Data needs a lot of cleaning for example \"XX\",\"XXX\",organisation names\n",
    "2. After looking at Topics we realise that a lot of keywords are important but do not give anyinformation about complaints. We should create a custom stop word list & clean the required data\n",
    "3. We may want to try clustering topics into K means for naming and better understanding and grouping\n",
    "4. Use LDA visualisation to understand topic in much more details"
   ]
  },
  {
   "cell_type": "code",
   "execution_count": null,
   "metadata": {},
   "outputs": [],
   "source": []
  }
 ],
 "metadata": {
  "kernelspec": {
   "display_name": "Python 3",
   "language": "python",
   "name": "python3"
  }
 },
 "nbformat": 4,
 "nbformat_minor": 2
}
