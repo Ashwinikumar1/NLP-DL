{
 "cells": [
  {
   "cell_type": "markdown",
   "metadata": {},
   "source": [
    "#### Objective : This code make use of complaint data against financial companies to perform following tasks on the data\n",
    "    1. Create Topic models to classify comlplaints in various categories.\n",
    "    2. We will do test preprcessingw here which remove all token which belong to org and other preprocessing\n",
    "    3. We will try out two Topic Modelling Algorithms\n",
    "        1. Latent Dirichtlet ALogorithm - In my exp does not work well on short text data\n",
    "        2. Non Negative Matrix factorisation"
   ]
  },
  {
   "cell_type": "markdown",
   "metadata": {},
   "source": [
    "#### About the Dataset\n",
    "The dataset comprises of Consumer Complaints on Financial products and we’ll see how to classify consumer complaints text into these categories: Debt collection, Consumer Loan, Mortgage, Credit card, Credit reporting, Student loan, Bank account or service, Payday loan, Money transfers, Other financial service, Prepaid card.\n",
    "Also we will try to identify the companies from the dataset"
   ]
  },
  {
   "cell_type": "markdown",
   "metadata": {},
   "source": [
    "#### Import the required package"
   ]
  },
  {
   "cell_type": "code",
   "execution_count": 140,
   "metadata": {},
   "outputs": [],
   "source": [
    "import pandas as pd\n",
    "%matplotlib inline\n",
    "from matplotlib import pyplot as plt\n",
    "import nltk\n",
    "import spacy\n",
    "import seaborn as sns\n",
    "import pickle\n",
    "from nltk.stem import PorterStemmer\n",
    "import string"
   ]
  },
  {
   "cell_type": "markdown",
   "metadata": {},
   "source": [
    "### Read the complaints data csv"
   ]
  },
  {
   "cell_type": "code",
   "execution_count": 141,
   "metadata": {},
   "outputs": [
    {
     "name": "stderr",
     "output_type": "stream",
     "text": [
      "C:\\Users\\ash\\Anaconda3\\lib\\site-packages\\IPython\\core\\interactiveshell.py:3057: DtypeWarning: Columns (5,11) have mixed types. Specify dtype option on import or set low_memory=False.\n",
      "  interactivity=interactivity, compiler=compiler, result=result)\n"
     ]
    }
   ],
   "source": [
    "complaint_data = pd.read_csv(\"Consumer_Complaints.csv\")"
   ]
  },
  {
   "cell_type": "code",
   "execution_count": 142,
   "metadata": {},
   "outputs": [
    {
     "data": {
      "text/plain": [
       "Index(['date_received', 'product', 'sub_product', 'issue', 'sub_issue',\n",
       "       'consumer_complaint_narrative', 'company_public_response', 'company',\n",
       "       'state', 'zip_code', 'tags', 'consumer_consent_provided?',\n",
       "       'submitted_via', 'date_sent_to_company', 'company_response_to_consumer',\n",
       "       'timely_response?', 'consumer_disputed?', 'complaint_id'],\n",
       "      dtype='object')"
      ]
     },
     "execution_count": 142,
     "metadata": {},
     "output_type": "execute_result"
    }
   ],
   "source": [
    "### Convert the columns names so that they don't have space and are more readable\n",
    "complaint_data.columns = [i.lower().replace(\" \",\"_\").replace(\"-\",\"_\") for i in complaint_data.columns]\n",
    "complaint_data.columns"
   ]
  },
  {
   "cell_type": "markdown",
   "metadata": {},
   "source": [
    "### Lets understand the shape an dtypes of the data"
   ]
  },
  {
   "cell_type": "code",
   "execution_count": 143,
   "metadata": {},
   "outputs": [
    {
     "name": "stdout",
     "output_type": "stream",
     "text": [
      "The shape of data is  (670598, 18)\n",
      "The data types for our data are as follows \n"
     ]
    }
   ],
   "source": [
    "print (\"The shape of data is \",complaint_data.shape)\n",
    "print (\"The data types for our data are as follows \")\n"
   ]
  },
  {
   "cell_type": "code",
   "execution_count": 144,
   "metadata": {},
   "outputs": [
    {
     "name": "stdout",
     "output_type": "stream",
     "text": [
      " The number of unique values in each column is as follows\n"
     ]
    },
    {
     "data": {
      "text/html": [
       "<div>\n",
       "<style scoped>\n",
       "    .dataframe tbody tr th:only-of-type {\n",
       "        vertical-align: middle;\n",
       "    }\n",
       "\n",
       "    .dataframe tbody tr th {\n",
       "        vertical-align: top;\n",
       "    }\n",
       "\n",
       "    .dataframe thead th {\n",
       "        text-align: right;\n",
       "    }\n",
       "</style>\n",
       "<table border=\"1\" class=\"dataframe\">\n",
       "  <thead>\n",
       "    <tr style=\"text-align: right;\">\n",
       "      <th></th>\n",
       "      <th>index</th>\n",
       "      <th>count</th>\n",
       "      <th>unique</th>\n",
       "      <th>top</th>\n",
       "      <th>freq</th>\n",
       "    </tr>\n",
       "  </thead>\n",
       "  <tbody>\n",
       "    <tr>\n",
       "      <th>0</th>\n",
       "      <td>date_received</td>\n",
       "      <td>670598</td>\n",
       "      <td>1818</td>\n",
       "      <td>08/27/2015</td>\n",
       "      <td>963</td>\n",
       "    </tr>\n",
       "    <tr>\n",
       "      <th>1</th>\n",
       "      <td>product</td>\n",
       "      <td>670598</td>\n",
       "      <td>12</td>\n",
       "      <td>Mortgage</td>\n",
       "      <td>210324</td>\n",
       "    </tr>\n",
       "    <tr>\n",
       "      <th>2</th>\n",
       "      <td>sub_product</td>\n",
       "      <td>472396</td>\n",
       "      <td>47</td>\n",
       "      <td>Other mortgage</td>\n",
       "      <td>81715</td>\n",
       "    </tr>\n",
       "    <tr>\n",
       "      <th>3</th>\n",
       "      <td>issue</td>\n",
       "      <td>670598</td>\n",
       "      <td>95</td>\n",
       "      <td>Loan modification,collection,foreclosure</td>\n",
       "      <td>106455</td>\n",
       "    </tr>\n",
       "    <tr>\n",
       "      <th>4</th>\n",
       "      <td>sub_issue</td>\n",
       "      <td>269868</td>\n",
       "      <td>68</td>\n",
       "      <td>Account status</td>\n",
       "      <td>32633</td>\n",
       "    </tr>\n",
       "    <tr>\n",
       "      <th>5</th>\n",
       "      <td>consumer_complaint_narrative</td>\n",
       "      <td>114704</td>\n",
       "      <td>112690</td>\n",
       "      <td>I am filing this complaint because Experian ha...</td>\n",
       "      <td>102</td>\n",
       "    </tr>\n",
       "    <tr>\n",
       "      <th>6</th>\n",
       "      <td>company_public_response</td>\n",
       "      <td>145197</td>\n",
       "      <td>10</td>\n",
       "      <td>Company has responded to the consumer and the ...</td>\n",
       "      <td>57364</td>\n",
       "    </tr>\n",
       "    <tr>\n",
       "      <th>7</th>\n",
       "      <td>company</td>\n",
       "      <td>670598</td>\n",
       "      <td>3933</td>\n",
       "      <td>Bank of America</td>\n",
       "      <td>61720</td>\n",
       "    </tr>\n",
       "    <tr>\n",
       "      <th>8</th>\n",
       "      <td>state</td>\n",
       "      <td>665293</td>\n",
       "      <td>62</td>\n",
       "      <td>CA</td>\n",
       "      <td>97640</td>\n",
       "    </tr>\n",
       "    <tr>\n",
       "      <th>9</th>\n",
       "      <td>zip_code</td>\n",
       "      <td>665274</td>\n",
       "      <td>27889</td>\n",
       "      <td>300XX</td>\n",
       "      <td>2147</td>\n",
       "    </tr>\n",
       "    <tr>\n",
       "      <th>10</th>\n",
       "      <td>tags</td>\n",
       "      <td>94730</td>\n",
       "      <td>3</td>\n",
       "      <td>Older American</td>\n",
       "      <td>54881</td>\n",
       "    </tr>\n",
       "    <tr>\n",
       "      <th>11</th>\n",
       "      <td>consumer_consent_provided?</td>\n",
       "      <td>208151</td>\n",
       "      <td>4</td>\n",
       "      <td>Consent provided</td>\n",
       "      <td>114704</td>\n",
       "    </tr>\n",
       "    <tr>\n",
       "      <th>12</th>\n",
       "      <td>submitted_via</td>\n",
       "      <td>670598</td>\n",
       "      <td>6</td>\n",
       "      <td>Web</td>\n",
       "      <td>446035</td>\n",
       "    </tr>\n",
       "    <tr>\n",
       "      <th>13</th>\n",
       "      <td>date_sent_to_company</td>\n",
       "      <td>670598</td>\n",
       "      <td>1767</td>\n",
       "      <td>11/13/2015</td>\n",
       "      <td>1108</td>\n",
       "    </tr>\n",
       "    <tr>\n",
       "      <th>14</th>\n",
       "      <td>company_response_to_consumer</td>\n",
       "      <td>670598</td>\n",
       "      <td>8</td>\n",
       "      <td>Closed with explanation</td>\n",
       "      <td>493981</td>\n",
       "    </tr>\n",
       "    <tr>\n",
       "      <th>15</th>\n",
       "      <td>timely_response?</td>\n",
       "      <td>670598</td>\n",
       "      <td>2</td>\n",
       "      <td>Yes</td>\n",
       "      <td>652848</td>\n",
       "    </tr>\n",
       "    <tr>\n",
       "      <th>16</th>\n",
       "      <td>consumer_disputed?</td>\n",
       "      <td>629179</td>\n",
       "      <td>2</td>\n",
       "      <td>No</td>\n",
       "      <td>496466</td>\n",
       "    </tr>\n",
       "  </tbody>\n",
       "</table>\n",
       "</div>"
      ],
      "text/plain": [
       "                           index   count  unique  \\\n",
       "0                  date_received  670598    1818   \n",
       "1                        product  670598      12   \n",
       "2                    sub_product  472396      47   \n",
       "3                          issue  670598      95   \n",
       "4                      sub_issue  269868      68   \n",
       "5   consumer_complaint_narrative  114704  112690   \n",
       "6        company_public_response  145197      10   \n",
       "7                        company  670598    3933   \n",
       "8                          state  665293      62   \n",
       "9                       zip_code  665274   27889   \n",
       "10                          tags   94730       3   \n",
       "11    consumer_consent_provided?  208151       4   \n",
       "12                 submitted_via  670598       6   \n",
       "13          date_sent_to_company  670598    1767   \n",
       "14  company_response_to_consumer  670598       8   \n",
       "15              timely_response?  670598       2   \n",
       "16            consumer_disputed?  629179       2   \n",
       "\n",
       "                                                  top    freq  \n",
       "0                                          08/27/2015     963  \n",
       "1                                            Mortgage  210324  \n",
       "2                                      Other mortgage   81715  \n",
       "3            Loan modification,collection,foreclosure  106455  \n",
       "4                                      Account status   32633  \n",
       "5   I am filing this complaint because Experian ha...     102  \n",
       "6   Company has responded to the consumer and the ...   57364  \n",
       "7                                     Bank of America   61720  \n",
       "8                                                  CA   97640  \n",
       "9                                               300XX    2147  \n",
       "10                                     Older American   54881  \n",
       "11                                   Consent provided  114704  \n",
       "12                                                Web  446035  \n",
       "13                                         11/13/2015    1108  \n",
       "14                            Closed with explanation  493981  \n",
       "15                                                Yes  652848  \n",
       "16                                                 No  496466  "
      ]
     },
     "execution_count": 144,
     "metadata": {},
     "output_type": "execute_result"
    }
   ],
   "source": [
    "### All the varables are text - which may correspond to categories and other variables\n",
    "print (\" The number of unique values in each column is as follows\")\n",
    "### Lets do a describe with including objects\n",
    "complaint_data.describe(include = 'object').T.reset_index()\n"
   ]
  },
  {
   "cell_type": "markdown",
   "metadata": {},
   "source": [
    "######  From above description we see that only 114704 rows have complaint text and as we are interested in only those row which have complaint text. We wll drop all rows where complaint narrative is na"
   ]
  },
  {
   "cell_type": "code",
   "execution_count": 145,
   "metadata": {},
   "outputs": [],
   "source": [
    "#### Keep only the consumer complaints is not null\n",
    "complaint_data = complaint_data[~complaint_data['consumer_complaint_narrative'].isna()]"
   ]
  },
  {
   "cell_type": "code",
   "execution_count": 146,
   "metadata": {},
   "outputs": [
    {
     "data": {
      "text/plain": [
       "<matplotlib.axes._subplots.AxesSubplot at 0x29b8e518>"
      ]
     },
     "execution_count": 146,
     "metadata": {},
     "output_type": "execute_result"
    },
    {
     "data": {
      "image/png": "[encoded data removed]",
      "text/plain": [
       "<Figure size 432x288 with 1 Axes>"
      ]
     },
     "metadata": {
      "needs_background": "light"
     },
     "output_type": "display_data"
    }
   ],
   "source": [
    "#### Create a distirbution of length of customers complaints. We have very left skew in length of complaints\n",
    "### Which is expected as most compalints can be written in less than 500 words\n",
    "complaint_data['consumer_complaint_narrative'].apply(len).plot(kind = 'hist')"
   ]
  },
  {
   "cell_type": "code",
   "execution_count": 147,
   "metadata": {},
   "outputs": [],
   "source": [
    "### Keep the length columns as a new column\n",
    "complaint_data['comp_length'] = complaint_data['consumer_complaint_narrative'].apply(len)\n",
    "complaint_data.reset_index(inplace = True)\n",
    "complaint_data['consumer_complaint_narrative'] = complaint_data['consumer_complaint_narrative'].str.replace(r\"XX+\\s\",\"\")\n",
    "complaint_data['consumer_complaint_narrative'] = complaint_data['consumer_complaint_narrative'].str.replace(\"XXXX\",\"\")"
   ]
  },
  {
   "cell_type": "code",
   "execution_count": 148,
   "metadata": {},
   "outputs": [],
   "source": [
    "complaint_data = complaint_data.sample(frac = 0.5,random_state = 5)\n",
    "complaint_data.reset_index(inplace = True)"
   ]
  },
  {
   "cell_type": "markdown",
   "metadata": {},
   "source": [
    "### We will first craete the data processing pipeline to do cleaning on the data"
   ]
  },
  {
   "cell_type": "code",
   "execution_count": 149,
   "metadata": {},
   "outputs": [],
   "source": [
    "nlp = spacy.load('en_core_web_sm')\n",
    "### Remove the stop words using spacy predefined list \n",
    "stop_words = nlp.Defaults.stop_words\n",
    "#### Create a list of puntuation to be removed\n",
    "symbols = \" \".join(string.punctuation).split(\" \") \n",
    "### As we are doing topic modelling itsa good idea to do lemmatisation - as it uses morphologial analysis\n",
    "ps = PorterStemmer()\n",
    "import re\n",
    "#### Lets define the cleaning function and see how it works\n",
    "def cleanup_text(docs,logging = False):\n",
    "    texts = []\n",
    "    counter = 1\n",
    "    for doc in docs:\n",
    "        \n",
    "        if counter % 5000 == 0 :\n",
    "            print (\"Processed %d of out of %d documents\"% (counter,len(docs)))\n",
    "        counter += 1\n",
    "        \n",
    "        doc = nlp(doc) ### We are disabling parser as will nt be using it\n",
    "        \n",
    "        \n",
    "        tokens = [tok.lemma_.lower().strip() for tok in doc if tok.lemma_ != \"-PRON-\"]\n",
    "        \n",
    "        tokens =[tok for tok in tokens if tok not in symbols]\n",
    "        tokens = [tok for tok in tokens if tok not in stop_words]\n",
    "        tokens = [re.sub('[0-9]', '', i) for i in tokens]\n",
    "        tokens = ' '.join(tokens)\n",
    "        texts.append(tokens)\n",
    "    return (pd.Series(texts))"
   ]
  },
  {
   "cell_type": "code",
   "execution_count": null,
   "metadata": {
    "scrolled": true
   },
   "outputs": [],
   "source": [
    "complaint_data['comp_preprocessed'] = cleanup_text(complaint_data['consumer_complaint_narrative'])"
   ]
  },
  {
   "cell_type": "code",
   "execution_count": null,
   "metadata": {},
   "outputs": [],
   "source": [
    "print (\"Shape of data before removing NA's ,\",complaint_data.shape)\n",
    "complaint_data =complaint_data[~complaint_data['comp_preprocessed'].isna()]\n",
    "print (\"Shape of data before removing NA's ,\",complaint_data.shape)"
   ]
  },
  {
   "cell_type": "code",
   "execution_count": null,
   "metadata": {},
   "outputs": [],
   "source": [
    "complaint_data[['comp_preprocessed','consumer_complaint_narrative']]"
   ]
  },
  {
   "cell_type": "markdown",
   "metadata": {},
   "source": [
    "### Lets tranform the data using TFIDF vectoriser\n",
    "1. For learning purpose i am using only tf-idf , but inpractical it as advised to trial out count vectoriser also\n",
    "2. Also, all paarmeters in TF IDF can be treated as Hyperparameters"
   ]
  },
  {
   "cell_type": "code",
   "execution_count": null,
   "metadata": {},
   "outputs": [],
   "source": [
    "### Lets Create the piprle line for NMF models \n",
    "from time import time\n",
    "\n",
    "from sklearn.feature_extraction.text import TfidfVectorizer, CountVectorizer\n",
    "from sklearn.decomposition import NMF \n",
    "#####  Let extract from act the features from the dataset\n",
    "\n",
    "print (\"Extracting the tf-idf features form NMF\")\n",
    "tfidf_vectorizer = TfidfVectorizer(max_df = 0.5, min_df = 5, max_features = 500, ngram_range = (1,4))\n",
    "\n",
    "t0 = time()\n",
    "tfidf = tfidf_vectorizer.fit_transform(complaint_data['comp_preprocessed'])\n",
    "print (\"done in %0.3fs.\" % (time() - t0))"
   ]
  },
  {
   "cell_type": "code",
   "execution_count": null,
   "metadata": {},
   "outputs": [],
   "source": [
    "#### Now we will fit model for 10 diff values of clusters\n",
    "n_comp = [10,20,30,40,50,60,70,80,90,100,110]\n",
    "loss = []\n",
    "for comps in n_comp:\n",
    "  \n",
    "    t0 = time()\n",
    "    nmf = NMF(n_components = comps, random_state = 1, beta_loss = 'kullback-leibler',solver = 'mu',max_iter = 200,\n",
    "             alpha = 0.1, l1_ratio = 0.5).fit(tfidf)\n",
    "    loss.append(nmf.reconstruction_err_)\n",
    "    print (\"done in %0.3f \" % (time() -t0))"
   ]
  },
  {
   "cell_type": "code",
   "execution_count": null,
   "metadata": {},
   "outputs": [],
   "source": [
    "### Let try to create a elbow and find out the best model clusters\n",
    "plt.plot(loss)\n",
    "plt.xlabel('Number of Topics')\n",
    "plt.ylabel('Reconstruction Error - Frobenius Norm')"
   ]
  },
  {
   "cell_type": "markdown",
   "metadata": {},
   "source": [
    "### Define a function which goes through - topic * word matrix and extract the top keywords"
   ]
  },
  {
   "cell_type": "code",
   "execution_count": null,
   "metadata": {},
   "outputs": [],
   "source": [
    "def print_top_words(model, feature_names, n_top_words):\n",
    "    for topic_idx, topic in enumerate(model.components_):\n",
    "        message = \"Topic #%d: \" % topic_idx\n",
    "        message += \" \".join([feature_names[i]\n",
    "                             for i in topic.argsort()[:-n_top_words - 1:-1]])\n",
    "        print(message)\n",
    "    print()"
   ]
  },
  {
   "cell_type": "code",
   "execution_count": null,
   "metadata": {},
   "outputs": [],
   "source": [
    "print_top_words(nmf, tfidf_vectorizer.get_feature_names(), 10)"
   ]
  },
  {
   "cell_type": "code",
   "execution_count": 136,
   "metadata": {},
   "outputs": [],
   "source": [
    "from sklearn.decomposition import LatentDirichletAllocation"
   ]
  },
  {
   "cell_type": "code",
   "execution_count": 138,
   "metadata": {},
   "outputs": [
    {
     "name": "stdout",
     "output_type": "stream",
     "text": [
      "done in 0.808s.\n",
      "done in 0.431s.\n",
      "done in 0.526s.\n",
      "done in 0.595s.\n",
      "done in 0.655s.\n",
      "done in 0.703s.\n",
      "done in 0.652s.\n",
      "done in 0.664s.\n",
      "done in 0.824s.\n",
      "done in 0.691s.\n",
      "done in 0.967s.\n"
     ]
    }
   ],
   "source": [
    "# Fit the NMF model\n",
    "#### Now we will fit model for 10 diff values of clusters\n",
    "n_comp = [10,20,30,40,50,60,70,80,90,100,110]\n",
    "\n",
    "for comps in n_comp:\n",
    "    loss1 = []\n",
    "    t0 = time()\n",
    "    lda = LatentDirichletAllocation(n_components=comps, max_iter=2,\n",
    "                                learning_method='online',\n",
    "                                learning_offset=50.,\n",
    "                                random_state=0)\n",
    "    lda.fit(tfidf)\n",
    "    print(\"done in %0.3fs.\" % (time() - t0))"
   ]
  },
  {
   "cell_type": "code",
   "execution_count": 139,
   "metadata": {},
   "outputs": [
    {
     "name": "stdout",
     "output_type": "stream",
     "text": [
      "Topic #0: date check return bankruptcy servicing day mortgage xxxx xxxx credit request\n",
      "Topic #1: debt number value mortgage taxis payment reach receive attach practice\n",
      "Topic #2: number phone verify company dispute right bill experian phone number know\n",
      "Topic #3: late payment appear information later office money business credit report student history\n",
      "Topic #4: want xx xxxx belong monthly payment party student loan approve receive rep immediately\n",
      "Topic #5: american company fraud monthly new deny balance transfer bill xxxx xxxx xxxx xxxx request\n",
      "Topic #6: bankruptcy resolve mortgage ve bank wife explanation statement house fcra\n",
      "Topic #7: overdraft fact acct identity theft address information credit clear fix ignore debit\n",
      "Topic #8: bring consumer pay claim fraud wife policy limit application overdraft\n",
      "Topic #9: payment car year date credit thing report plan work past\n",
      "Topic #10: home monthly payment law people previously month statement like customer legal\n",
      "Topic #11: discover citibank victim year ago xxxx receive credit report resolve wells attach use\n",
      "Topic #12: loan mortgage section way increase know speak wrong bank america change\n",
      "Topic #13: inquiry credit transunion credit report report action hard company debt xxxx xxxx\n",
      "Topic #14: dispute agency refuse debt mail answer account find letter phone\n",
      "Topic #15: account program suntrust fargo cover settle wells agent mortgage payment\n",
      "Topic #16: fargo bank wells fargo fraud money insurance understand cover cash case\n",
      "Topic #17: late remove credit etc list account report credit report belong nationstar\n",
      "Topic #18: charge account finally payoff xxxx xxxx transfer transaction info closing sell\n",
      "Topic #19: act result pull lie plus interest rate bank credit use bureau\n",
      "Topic #20: type consumer forward lie activity sale work confirm possible belong\n",
      "Topic #21: credit property foreclose wells fargo point wrong collection xx lender information\n",
      "Topic #22: mortgage month deal protection continue office credit report home mistake judgment\n",
      "Topic #23: union use dollar account interest accord detail bring property business\n",
      "Topic #24: overdraft transunion complaint send letter xxxx xxxx xxxx xxxx fraud saving number bank investigate\n",
      "Topic #25: good return report update care chase today office access continue\n",
      "Topic #26: company thing balance transfer ocwen delete return mention chase credit report spend\n",
      "Topic #27: account history balance chase issue attempt time family credit bank\n",
      "Topic #28: xx sale request state loan time wells fargo equifax hard information\n",
      "Topic #29: verify fcra dispute file section file complaint possible delete soon thank\n",
      "Topic #30: capital website day time charge documentation leave mortgage payment ocwen regard\n",
      "Topic #31: phone result information escrow turn attorney access stop lender question\n",
      "Topic #32: stop work need phone send letter tell money home deposit add\n",
      "Topic #33: fund deposit check account payment receive month credit company promotion\n",
      "Topic #34: credit report credit report account debt letter delete place xx history\n",
      "Topic #35: ocwen xx deny xx xxxx equifax discharge law report loan mortgage payment\n",
      "Topic #36: time report late day month information issue home attach approve\n",
      "Topic #37: credit tell fee debt credit report agency account use report original\n",
      "Topic #38: believe report month negative problem mail charge inaccurate request report credit\n",
      "Topic #39: report credit copy request job info wait service credit report plan\n",
      "Topic #40: loan refund apply experian pay insurance payment services assistance financial\n",
      "Topic #41: america type title account debit fargo note lease demand find\n",
      "Topic #42: email transfer money federal state conversation law credit reporting agency charge later\n",
      "Topic #43: loan mortgage payment pay month rate modification interest year property\n",
      "Topic #44: insurance inquiry policy letter ocwen stop hard escrow credit notify\n",
      "Topic #45: vehicle purchase mortgage company contract refinance collect fund paperwork experience history\n",
      "Topic #46: court debt mortgage company interest interest rate provide money lose bankruptcy think\n",
      "Topic #47: xx proof insurance vehicle remove value loan victim attorney bureau\n",
      "Topic #48: law debt ditech experian dispute report information account credit company\n",
      "Topic #49: want able later xx xx xx late offer status pay bill system file\n",
      "Topic #50: chase account bank detail payment claim loan send access money\n",
      "Topic #51: foreclosure agent live option work debt stop sale xxxx receive collection\n",
      "Topic #52: rate report chase promise credit report request property banking currently home\n",
      "Topic #53: acct cash letter check customer service credit report close receive charge principal\n",
      "Topic #54: inquiry hard send letter union phone number number dispute resolve credit federal\n",
      "Topic #55: xx xx xx xx xx xxxx xx xxxx loan payment pay xx xx xx tell mortgage\n",
      "Topic #56: issue foreclosure complete income minimum lien wells title spend telephone\n",
      "Topic #57: live instead union access limit find date lose record policy\n",
      "Topic #58: recently like good feel turn bad plan clearly email explain\n",
      "Topic #59: period today state credit reference home pay sign fair owe\n",
      "Topic #60: hang purchase file bankruptcy remove follow xxxx xxxx phone state term\n",
      "Topic #61: belong identity theft tell report way local new owe pay think\n",
      "Topic #62: credit inquiry hold debt wells xx xxxx write confirm social security send\n",
      "Topic #63: new wrong notify line xx xxxx owe want phone happen number\n",
      "Topic #64: bank cash collection month bill overdraft email phone transfer transaction\n",
      "Topic #65: card fee charge chase remove account fraud activity process payment\n",
      "Topic #66: deposit xxxx xxxx signature xx balance account payment xxxx suntrust post payment\n",
      "Topic #67: insurance money card pay medical bill check balance account cover\n",
      "Topic #68: mean feel delete payoff access note clear conversation sign monthly payment\n",
      "Topic #69: information nationstar loan taxis payment account address statement incorrect complaint\n",
      "Topic #70: company information attorney regard office pay email approve loan mail\n",
      "Topic #71: complaint file complaint foreclosure capital agreement year turn include direct rate\n",
      "Topic #72: loan process tax email fee lease pay suntrust online fargo\n",
      "Topic #73: boa form process chase transaction xxxx xxxx escrow overdraft claim charge\n",
      "Topic #74: credit submit services message refund equifax leave employee mention open\n",
      "Topic #75: america message sell copy student loan people ago way live submit\n",
      "Topic #76: payment nationstar pay check account modification post start telephone resolution\n",
      "Topic #77: trial period agent fund advise agreement complete ditech modification receive\n",
      "Topic #78: look car email requirement situation ocwen xxxx xx correct attorney support\n",
      "Topic #79: equifax number refuse fraud ask wait boa help place copy\n",
      "Topic #80: trial hear mortgage try dispute note error ve support confirmation\n",
      "Topic #81: xxxx xxxx xxxx xxxx xxxx xxxx xxxx xxxx xxxx contact sign section belong complaint credit id\n",
      "Topic #82: debt charge credit card contact xx credit card account report try\n",
      "Topic #83: apply phone send early loan service time term hold process\n",
      "Topic #84: inquiry follow report inquire ocwen citibank send recently paperwork delete\n",
      "Topic #85: financial violation result practice actually service continue insurance history month\n",
      "Topic #86: debt collect reflect credit card interest rate list error pass program discharge\n",
      "Topic #87: identity theft identity belong america item phone fraudulent afford check demand\n",
      "Topic #88: credit reporting discover response available ignore reporting agency boa bad activity credit\n",
      "Topic #89: mortgage message try leave phone ve servicing pay report belong\n",
      "Topic #90: open inform rate increase sale interest rate short address high borrower\n",
      "Topic #91: access xxxx xxxx xxxx xxxx xxxx account xxxx judgment fund post run account order\n",
      "Topic #92: account bank payment card charge fee check pay tell credit\n",
      "Topic #93: loan debt phone debt collector receive xxxx xxxx multiple account charge work\n",
      "Topic #94: info new record foreclosure reach refuse bad credit reporting agency refinance thank\n",
      "Topic #95: program mean consumer completely email cash date leave paper answer\n",
      "Topic #96: recently medical fact look monthly check account system check employee change\n",
      "Topic #97: send wife come hard credit dispute payment information home account\n",
      "Topic #98: promise bill date late financial wells fargo bring access come time\n",
      "Topic #99: report credit account credit report debt information dispute collection remove company\n",
      "Topic #100: xx send additional set instead buy meet mortgage plus pay mortgage\n",
      "Topic #101: debt debt collector collector owe collection number credit account collect list\n",
      "Topic #102: mortgage company citibank borrower loan closing citi proof concern help money\n",
      "Topic #103: ditech state old report correct monthly payment month employee medical sure\n",
      "Topic #104: service way refuse look mortgage instead early understand program wife\n",
      "Topic #105: pay loan numerous job payoff real rep process complete fail identity theft\n",
      "Topic #106: want number phone number later provide system owe phone decide documentation\n",
      "Topic #107: promotion numerous customer service account xx qualify experian transfer term false\n",
      "Topic #108: check account deposit bank money saving overdraft work time penalty\n",
      "Topic #109: stop family job ask list need pull ve know talk\n",
      "\n"
     ]
    }
   ],
   "source": [
    "print_top_words(lda, tfidf_vectorizer.get_feature_names(), 10)"
   ]
  },
  {
   "cell_type": "code",
   "execution_count": null,
   "metadata": {},
   "outputs": [],
   "source": []
  }
 ],
 "metadata": {
  "kernelspec": {
   "display_name": "Python 3",
   "language": "python",
   "name": "python3"
  }
 },
 "nbformat": 4,
 "nbformat_minor": 2
}
