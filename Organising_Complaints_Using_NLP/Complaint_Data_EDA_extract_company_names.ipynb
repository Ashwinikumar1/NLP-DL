{
 "cells": [
  {
   "cell_type": "markdown",
   "metadata": {},
   "source": [
    "#### Objective : This code make use of complaint data against financial companies to perform following tasks on the data\n",
    "    1. Identify company names using NER tagging\n",
    "    2. Create Topic models to classify comlplaints in various categories"
   ]
  },
  {
   "cell_type": "markdown",
   "metadata": {},
   "source": [
    "#### About the Dataset\n",
    "The dataset comprises of Consumer Complaints on Financial products and we’ll see how to classify consumer complaints text into these categories: Debt collection, Consumer Loan, Mortgage, Credit card, Credit reporting, Student loan, Bank account or service, Payday loan, Money transfers, Other financial service, Prepaid card.\n",
    "Also we will try to identify the companies from the dataset"
   ]
  },
  {
   "cell_type": "markdown",
   "metadata": {},
   "source": [
    "#### Import the required package"
   ]
  },
  {
   "cell_type": "code",
   "execution_count": 1,
   "metadata": {},
   "outputs": [],
   "source": [
    "import pandas as pd\n",
    "%matplotlib inline\n",
    "from matplotlib import pyplot as plt\n",
    "import nltk\n",
    "import spacy\n",
    "import seaborn as sns\n",
    "import pickle"
   ]
  },
  {
   "cell_type": "markdown",
   "metadata": {},
   "source": [
    "### Read the complaints data csv"
   ]
  },
  {
   "cell_type": "code",
   "execution_count": 2,
   "metadata": {},
   "outputs": [
    {
     "name": "stderr",
     "output_type": "stream",
     "text": [
      "C:\\Users\\ash\\Anaconda3\\lib\\site-packages\\IPython\\core\\interactiveshell.py:3057: DtypeWarning: Columns (5,11) have mixed types. Specify dtype option on import or set low_memory=False.\n",
      "  interactivity=interactivity, compiler=compiler, result=result)\n"
     ]
    }
   ],
   "source": [
    "complaint_data = pd.read_csv(\"Consumer_Complaints.csv\")"
   ]
  },
  {
   "cell_type": "code",
   "execution_count": 3,
   "metadata": {},
   "outputs": [
    {
     "data": {
      "text/plain": [
       "Index(['date_received', 'product', 'sub_product', 'issue', 'sub_issue',\n",
       "       'consumer_complaint_narrative', 'company_public_response', 'company',\n",
       "       'state', 'zip_code', 'tags', 'consumer_consent_provided?',\n",
       "       'submitted_via', 'date_sent_to_company', 'company_response_to_consumer',\n",
       "       'timely_response?', 'consumer_disputed?', 'complaint_id'],\n",
       "      dtype='object')"
      ]
     },
     "execution_count": 3,
     "metadata": {},
     "output_type": "execute_result"
    }
   ],
   "source": [
    "### Convert the columns names so that they don't have space and are more readable\n",
    "complaint_data.columns = [i.lower().replace(\" \",\"_\").replace(\"-\",\"_\") for i in complaint_data.columns]\n",
    "complaint_data.columns"
   ]
  },
  {
   "cell_type": "markdown",
   "metadata": {},
   "source": [
    "### Lets understand the shape an dtypes of the data"
   ]
  },
  {
   "cell_type": "code",
   "execution_count": 4,
   "metadata": {},
   "outputs": [
    {
     "name": "stdout",
     "output_type": "stream",
     "text": [
      "The shape of data is  (670598, 18)\n",
      "The data types for our data are as follows \n",
      "<class 'pandas.core.frame.DataFrame'>\n",
      "RangeIndex: 670598 entries, 0 to 670597\n",
      "Data columns (total 18 columns):\n",
      "date_received                   670598 non-null object\n",
      "product                         670598 non-null object\n",
      "sub_product                     472396 non-null object\n",
      "issue                           670598 non-null object\n",
      "sub_issue                       269868 non-null object\n",
      "consumer_complaint_narrative    114704 non-null object\n",
      "company_public_response         145197 non-null object\n",
      "company                         670598 non-null object\n",
      "state                           665293 non-null object\n",
      "zip_code                        665274 non-null object\n",
      "tags                            94730 non-null object\n",
      "consumer_consent_provided?      208151 non-null object\n",
      "submitted_via                   670598 non-null object\n",
      "date_sent_to_company            670598 non-null object\n",
      "company_response_to_consumer    670598 non-null object\n",
      "timely_response?                670598 non-null object\n",
      "consumer_disputed?              629179 non-null object\n",
      "complaint_id                    670598 non-null int64\n",
      "dtypes: int64(1), object(17)\n",
      "memory usage: 92.1+ MB\n",
      "None\n",
      "       complaint_id\n",
      "count  6.705980e+05\n",
      "mean   1.145473e+06\n",
      "std    6.468630e+05\n",
      "min    1.000000e+00\n",
      "25%    5.930575e+05\n",
      "50%    1.174558e+06\n",
      "75%    1.718337e+06\n",
      "max    2.218987e+06\n"
     ]
    }
   ],
   "source": [
    "print (\"The shape of data is \",complaint_data.shape)\n",
    "print (\"The data types for our data are as follows \")\n",
    "print (complaint_data.info())\n",
    "\n",
    "print (complaint_data.describe())"
   ]
  },
  {
   "cell_type": "code",
   "execution_count": 5,
   "metadata": {},
   "outputs": [
    {
     "name": "stdout",
     "output_type": "stream",
     "text": [
      " The number of unique values in each column is as follows\n"
     ]
    },
    {
     "data": {
      "text/html": [
       "<div>\n",
       "<style scoped>\n",
       "    .dataframe tbody tr th:only-of-type {\n",
       "        vertical-align: middle;\n",
       "    }\n",
       "\n",
       "    .dataframe tbody tr th {\n",
       "        vertical-align: top;\n",
       "    }\n",
       "\n",
       "    .dataframe thead th {\n",
       "        text-align: right;\n",
       "    }\n",
       "</style>\n",
       "<table border=\"1\" class=\"dataframe\">\n",
       "  <thead>\n",
       "    <tr style=\"text-align: right;\">\n",
       "      <th></th>\n",
       "      <th>index</th>\n",
       "      <th>count</th>\n",
       "      <th>unique</th>\n",
       "      <th>top</th>\n",
       "      <th>freq</th>\n",
       "    </tr>\n",
       "  </thead>\n",
       "  <tbody>\n",
       "    <tr>\n",
       "      <th>0</th>\n",
       "      <td>date_received</td>\n",
       "      <td>670598</td>\n",
       "      <td>1818</td>\n",
       "      <td>08/27/2015</td>\n",
       "      <td>963</td>\n",
       "    </tr>\n",
       "    <tr>\n",
       "      <th>1</th>\n",
       "      <td>product</td>\n",
       "      <td>670598</td>\n",
       "      <td>12</td>\n",
       "      <td>Mortgage</td>\n",
       "      <td>210324</td>\n",
       "    </tr>\n",
       "    <tr>\n",
       "      <th>2</th>\n",
       "      <td>sub_product</td>\n",
       "      <td>472396</td>\n",
       "      <td>47</td>\n",
       "      <td>Other mortgage</td>\n",
       "      <td>81715</td>\n",
       "    </tr>\n",
       "    <tr>\n",
       "      <th>3</th>\n",
       "      <td>issue</td>\n",
       "      <td>670598</td>\n",
       "      <td>95</td>\n",
       "      <td>Loan modification,collection,foreclosure</td>\n",
       "      <td>106455</td>\n",
       "    </tr>\n",
       "    <tr>\n",
       "      <th>4</th>\n",
       "      <td>sub_issue</td>\n",
       "      <td>269868</td>\n",
       "      <td>68</td>\n",
       "      <td>Account status</td>\n",
       "      <td>32633</td>\n",
       "    </tr>\n",
       "    <tr>\n",
       "      <th>5</th>\n",
       "      <td>consumer_complaint_narrative</td>\n",
       "      <td>114704</td>\n",
       "      <td>112690</td>\n",
       "      <td>I am filing this complaint because Experian ha...</td>\n",
       "      <td>102</td>\n",
       "    </tr>\n",
       "    <tr>\n",
       "      <th>6</th>\n",
       "      <td>company_public_response</td>\n",
       "      <td>145197</td>\n",
       "      <td>10</td>\n",
       "      <td>Company has responded to the consumer and the ...</td>\n",
       "      <td>57364</td>\n",
       "    </tr>\n",
       "    <tr>\n",
       "      <th>7</th>\n",
       "      <td>company</td>\n",
       "      <td>670598</td>\n",
       "      <td>3933</td>\n",
       "      <td>Bank of America</td>\n",
       "      <td>61720</td>\n",
       "    </tr>\n",
       "    <tr>\n",
       "      <th>8</th>\n",
       "      <td>state</td>\n",
       "      <td>665293</td>\n",
       "      <td>62</td>\n",
       "      <td>CA</td>\n",
       "      <td>97640</td>\n",
       "    </tr>\n",
       "    <tr>\n",
       "      <th>9</th>\n",
       "      <td>zip_code</td>\n",
       "      <td>665274</td>\n",
       "      <td>27889</td>\n",
       "      <td>300XX</td>\n",
       "      <td>2147</td>\n",
       "    </tr>\n",
       "    <tr>\n",
       "      <th>10</th>\n",
       "      <td>tags</td>\n",
       "      <td>94730</td>\n",
       "      <td>3</td>\n",
       "      <td>Older American</td>\n",
       "      <td>54881</td>\n",
       "    </tr>\n",
       "    <tr>\n",
       "      <th>11</th>\n",
       "      <td>consumer_consent_provided?</td>\n",
       "      <td>208151</td>\n",
       "      <td>4</td>\n",
       "      <td>Consent provided</td>\n",
       "      <td>114704</td>\n",
       "    </tr>\n",
       "    <tr>\n",
       "      <th>12</th>\n",
       "      <td>submitted_via</td>\n",
       "      <td>670598</td>\n",
       "      <td>6</td>\n",
       "      <td>Web</td>\n",
       "      <td>446035</td>\n",
       "    </tr>\n",
       "    <tr>\n",
       "      <th>13</th>\n",
       "      <td>date_sent_to_company</td>\n",
       "      <td>670598</td>\n",
       "      <td>1767</td>\n",
       "      <td>11/13/2015</td>\n",
       "      <td>1108</td>\n",
       "    </tr>\n",
       "    <tr>\n",
       "      <th>14</th>\n",
       "      <td>company_response_to_consumer</td>\n",
       "      <td>670598</td>\n",
       "      <td>8</td>\n",
       "      <td>Closed with explanation</td>\n",
       "      <td>493981</td>\n",
       "    </tr>\n",
       "    <tr>\n",
       "      <th>15</th>\n",
       "      <td>timely_response?</td>\n",
       "      <td>670598</td>\n",
       "      <td>2</td>\n",
       "      <td>Yes</td>\n",
       "      <td>652848</td>\n",
       "    </tr>\n",
       "    <tr>\n",
       "      <th>16</th>\n",
       "      <td>consumer_disputed?</td>\n",
       "      <td>629179</td>\n",
       "      <td>2</td>\n",
       "      <td>No</td>\n",
       "      <td>496466</td>\n",
       "    </tr>\n",
       "  </tbody>\n",
       "</table>\n",
       "</div>"
      ],
      "text/plain": [
       "                           index   count  unique  \\\n",
       "0                  date_received  670598    1818   \n",
       "1                        product  670598      12   \n",
       "2                    sub_product  472396      47   \n",
       "3                          issue  670598      95   \n",
       "4                      sub_issue  269868      68   \n",
       "5   consumer_complaint_narrative  114704  112690   \n",
       "6        company_public_response  145197      10   \n",
       "7                        company  670598    3933   \n",
       "8                          state  665293      62   \n",
       "9                       zip_code  665274   27889   \n",
       "10                          tags   94730       3   \n",
       "11    consumer_consent_provided?  208151       4   \n",
       "12                 submitted_via  670598       6   \n",
       "13          date_sent_to_company  670598    1767   \n",
       "14  company_response_to_consumer  670598       8   \n",
       "15              timely_response?  670598       2   \n",
       "16            consumer_disputed?  629179       2   \n",
       "\n",
       "                                                  top    freq  \n",
       "0                                          08/27/2015     963  \n",
       "1                                            Mortgage  210324  \n",
       "2                                      Other mortgage   81715  \n",
       "3            Loan modification,collection,foreclosure  106455  \n",
       "4                                      Account status   32633  \n",
       "5   I am filing this complaint because Experian ha...     102  \n",
       "6   Company has responded to the consumer and the ...   57364  \n",
       "7                                     Bank of America   61720  \n",
       "8                                                  CA   97640  \n",
       "9                                               300XX    2147  \n",
       "10                                     Older American   54881  \n",
       "11                                   Consent provided  114704  \n",
       "12                                                Web  446035  \n",
       "13                                         11/13/2015    1108  \n",
       "14                            Closed with explanation  493981  \n",
       "15                                                Yes  652848  \n",
       "16                                                 No  496466  "
      ]
     },
     "execution_count": 5,
     "metadata": {},
     "output_type": "execute_result"
    }
   ],
   "source": [
    "### All the varables are text - which may correspond to categories and other variables\n",
    "print (\" The number of unique values in each column is as follows\")\n",
    "### Lets do a describe with including objects\n",
    "complaint_data.describe(include = 'object').T.reset_index()\n"
   ]
  },
  {
   "cell_type": "markdown",
   "metadata": {},
   "source": [
    "######  From above description we see that only 114704 rows have complaint text and as we are interested in only those row which have complaint text. We wll drop all rows where complaint narrative is na"
   ]
  },
  {
   "cell_type": "code",
   "execution_count": 6,
   "metadata": {},
   "outputs": [],
   "source": [
    "#### Keep only the consumer complaints is not null\n",
    "complaint_data = complaint_data[~complaint_data['consumer_complaint_narrative'].isna()]"
   ]
  },
  {
   "cell_type": "code",
   "execution_count": 7,
   "metadata": {},
   "outputs": [
    {
     "data": {
      "text/plain": [
       "<matplotlib.axes._subplots.AxesSubplot at 0x1f3b5f60>"
      ]
     },
     "execution_count": 7,
     "metadata": {},
     "output_type": "execute_result"
    },
    {
     "data": {
      "image/png": "[encoded data removed]",
      "text/plain": [
       "<Figure size 432x288 with 1 Axes>"
      ]
     },
     "metadata": {
      "needs_background": "light"
     },
     "output_type": "display_data"
    }
   ],
   "source": [
    "#### Create a distirbution of length of customers complaints. We have very left skew in length of complaints\n",
    "### Which is expected as most compalints can be written in less than 500 words\n",
    "complaint_data['consumer_complaint_narrative'].apply(len).plot(kind = 'hist')"
   ]
  },
  {
   "cell_type": "code",
   "execution_count": 8,
   "metadata": {},
   "outputs": [],
   "source": [
    "### Keep the length columns as a new column\n",
    "complaint_data['comp_length'] = complaint_data['consumer_complaint_narrative'].apply(len)"
   ]
  },
  {
   "cell_type": "code",
   "execution_count": 9,
   "metadata": {},
   "outputs": [
    {
     "data": {
      "text/plain": [
       "<matplotlib.axes._subplots.AxesSubplot at 0x1f3a7a58>"
      ]
     },
     "execution_count": 9,
     "metadata": {},
     "output_type": "execute_result"
    },
    {
     "data": {
      "image/png": "[encoded data removed]",
      "text/plain": [
       "<Figure size 1728x432 with 1 Axes>"
      ]
     },
     "metadata": {
      "needs_background": "light"
     },
     "output_type": "display_data"
    }
   ],
   "source": [
    "### Lets look at compalints distribution by product type\n",
    "fig,ax = plt.subplots(figsize=(24,6))\n",
    "complaint_data['product'].value_counts().plot(kind = 'bar')"
   ]
  },
  {
   "cell_type": "code",
   "execution_count": 10,
   "metadata": {},
   "outputs": [
    {
     "data": {
      "text/plain": [
       "<matplotlib.axes._subplots.AxesSubplot at 0x1f3970f0>"
      ]
     },
     "execution_count": 10,
     "metadata": {},
     "output_type": "execute_result"
    },
    {
     "data": {
      "image/png": "[encoded data removed]",
      "text/plain": [
       "<Figure size 432x288 with 1 Axes>"
      ]
     },
     "metadata": {
      "needs_background": "light"
     },
     "output_type": "display_data"
    }
   ],
   "source": [
    "### Lets look at the distribution of every product by distputed or not\n",
    "pd.crosstab(complaint_data['product'],complaint_data['consumer_disputed?']).plot(kind='bar')"
   ]
  },
  {
   "cell_type": "code",
   "execution_count": 11,
   "metadata": {},
   "outputs": [],
   "source": [
    "### Lets look at the company data"
   ]
  },
  {
   "cell_type": "code",
   "execution_count": 12,
   "metadata": {},
   "outputs": [
    {
     "data": {
      "text/plain": [
       "<matplotlib.axes._subplots.AxesSubplot at 0x1f383320>"
      ]
     },
     "execution_count": 12,
     "metadata": {},
     "output_type": "execute_result"
    },
    {
     "data": {
      "image/png": "[encoded data removed]",
      "text/plain": [
       "<Figure size 432x288 with 1 Axes>"
      ]
     },
     "metadata": {
      "needs_background": "light"
     },
     "output_type": "display_data"
    }
   ],
   "source": [
    "complaint_data['company'].value_counts()[0:25].plot(kind= 'bar',title = ' Top 25 companies by number of complaints')"
   ]
  },
  {
   "cell_type": "markdown",
   "metadata": {},
   "source": [
    "### Objective 1 :  For learning purpose we will assume we don't have any company names and try to assign company name to each complaint with text using NLP"
   ]
  },
  {
   "cell_type": "code",
   "execution_count": 13,
   "metadata": {},
   "outputs": [],
   "source": [
    "### Lets do some cleaning on the data. Mainly we will remove the stopwords and XXXX marks from our data\n",
    "### In this data some word are masked due to sensitivity of the data\n",
    "\n",
    "complaint_data['consumer_complaint_narrative'] =complaint_data['consumer_complaint_narrative'].str.replace(r'[^\\w\\s]',\"\")\n",
    "complaint_data['consumer_complaint_narrative'] = complaint_data['consumer_complaint_narrative'].str.replace(r\"XX+\\s\",\"\")"
   ]
  },
  {
   "cell_type": "markdown",
   "metadata": {},
   "source": [
    "### Define a function which applies NER tagging and return a list of ORG found in data"
   ]
  },
  {
   "cell_type": "code",
   "execution_count": 14,
   "metadata": {},
   "outputs": [],
   "source": [
    "#### Defined extract entities names and store it in a list \n",
    "def extract_org_list(str1):\n",
    "    ''' This will take a str1 and extract the list of organization. This will be stored as a list of organisations'''\n",
    "    ### We are using the predefined ner parser tagging\n",
    "    docs = nlp(str1)\n",
    "    \n",
    "    ### We will return a list \n",
    "    return ( [str(i) for i in docs.ents if i.label_ == 'ORG'])\n",
    "    "
   ]
  },
  {
   "cell_type": "code",
   "execution_count": 15,
   "metadata": {},
   "outputs": [],
   "source": [
    "### Test the function out on 10 columns and the apply it to whole datasets"
   ]
  },
  {
   "cell_type": "code",
   "execution_count": 16,
   "metadata": {},
   "outputs": [],
   "source": [
    "cmp = complaint_data.iloc[0:10]\n",
    "nlp = spacy.load('en_core_web_sm')"
   ]
  },
  {
   "cell_type": "code",
   "execution_count": 17,
   "metadata": {},
   "outputs": [],
   "source": [
    "cmp1 =cmp['consumer_complaint_narrative'].apply(extract_org_list)"
   ]
  },
  {
   "cell_type": "code",
   "execution_count": 18,
   "metadata": {},
   "outputs": [
    {
     "data": {
      "text/plain": [
       "57729    [Applied, USPMO, USPMO, Capital One, USPMO, Ca...\n",
       "57787                                                   []\n",
       "57838    [Charter One BankRBS Citizens Bank, Financial ...\n",
       "57848                                                   []\n",
       "57852                                                   []\n",
       "57864                                              [noone]\n",
       "57865    [Collection Consultants, Collection Consultant...\n",
       "57868                                                   []\n",
       "57871                                                   []\n",
       "57872                                                   []\n",
       "Name: consumer_complaint_narrative, dtype: object"
      ]
     },
     "execution_count": 18,
     "metadata": {},
     "output_type": "execute_result"
    }
   ],
   "source": [
    "cmp1"
   ]
  },
  {
   "cell_type": "markdown",
   "metadata": {},
   "source": [
    "### The function is working as it should , apply it to complete data"
   ]
  },
  {
   "cell_type": "code",
   "execution_count": 28,
   "metadata": {},
   "outputs": [],
   "source": [
    "complaint_data['org_list_spacy'] = complaint_data['consumer_complaint_narrative'].apply(extract_org_list)\n",
    "### Store the output in text file so that we don't have to run the model again\n",
    "complaint_data.to_csv(\"text.csv\")"
   ]
  },
  {
   "cell_type": "code",
   "execution_count": 29,
   "metadata": {},
   "outputs": [],
   "source": [
    "# complaint_data = pd.read_csv(\"text.csv\")"
   ]
  },
  {
   "cell_type": "markdown",
   "metadata": {},
   "source": [
    "### After looking at the list of Organization we need to perform a few things of the data\n",
    "\n",
    "    1. 40K claims model is not able to identify Orgs, on manual QA it seems the compalints dont have company name \n",
    "    2. As it is free text, each organisation can be written in multiple ways for example Capital One is written as following\n",
    "        [\"Cap One\",\"Capital One Bank\",\"Cap One Corp\",'the Capital One Bank', 'Capital One' ] etc\n",
    "    3. We need to create a method of normalizing the company names to the required list"
   ]
  },
  {
   "cell_type": "code",
   "execution_count": 37,
   "metadata": {},
   "outputs": [],
   "source": [
    "org_dict = {}\n",
    "org_dict_clean ={}\n",
    "\n",
    "for i in complaint_data['org_list_spacy']:\n",
    "  \n",
    "    for org_name in i :\n",
    "        org_dict_clean[org_name] = str(org_name).lower().strip()\n",
    "        org_name = str(org_name).lower().strip()\n",
    "        if org_name in org_dict:\n",
    "            org_dict[org_name] += 1\n",
    "        else:\n",
    "            org_dict[org_name] = 1\n",
    "            "
   ]
  },
  {
   "cell_type": "code",
   "execution_count": 39,
   "metadata": {},
   "outputs": [],
   "source": [
    "import pickle\n",
    "with open('org_dict1.pickle','wb') as filereq:\n",
    "    pickle.dump(org_dict,filereq)\n",
    "\n",
    "with open('org_dict2.pickle','wb') as filereq:\n",
    "    pickle.dump(org_dict_clean,filereq)"
   ]
  },
  {
   "cell_type": "code",
   "execution_count": 40,
   "metadata": {},
   "outputs": [],
   "source": [
    "### Load the pickled dictionary\n",
    "with open('org_dict1.pickle','rb') as filereq:\n",
    "    org_dict = pickle.load(filereq)\n"
   ]
  },
  {
   "cell_type": "code",
   "execution_count": 41,
   "metadata": {},
   "outputs": [],
   "source": [
    "#### Sort the dictionary by values and remove any v is less than 10\n",
    "org_sort = {k: v for k, v in sorted(org_dict.items(), key=lambda item: item[1],reverse=True) if v > 5}"
   ]
  },
  {
   "cell_type": "code",
   "execution_count": 42,
   "metadata": {},
   "outputs": [],
   "source": [
    "### List names append \n",
    "org_names_list = []\n",
    "for i in org_sort:\n",
    "    org_names_list.append(i)\n",
    "    "
   ]
  },
  {
   "cell_type": "code",
   "execution_count": 3,
   "metadata": {},
   "outputs": [
    {
     "name": "stderr",
     "output_type": "stream",
     "text": [
      "C:\\Users\\ash\\Anaconda3\\lib\\site-packages\\fuzzywuzzy\\fuzz.py:11: UserWarning: Using slow pure-python SequenceMatcher. Install python-Levenshtein to remove this warning\n",
      "  warnings.warn('Using slow pure-python SequenceMatcher. Install python-Levenshtein to remove this warning')\n"
     ]
    }
   ],
   "source": [
    "from fuzzywuzzy import fuzz"
   ]
  },
  {
   "cell_type": "markdown",
   "metadata": {},
   "source": [
    "#### We have create dictionary of company names right now but we have following issues :\n",
    "\n",
    "1. Company names are not normalised\n",
    "2. Few Noise terms which do not repspond to company names but are recognised as Companies\n",
    "\n",
    "Problem 1 - Suggested Solution :\n",
    "    1. Create a matching score between every company names in the stored dictionary. We can use fuzzy wuzzy matching for the same\n",
    "    2. Based on fuzzy wuzzy matching scoring algorithm metric, create cluster. As we are not sure of how many clsuters be used we will use a Affinity clustering algorithm\n",
    "    3. Once the cluster is created, assign names based which has highest similarity score to everyone else in the cluster\n",
    "    \n",
    "Problem 2 - Suggested Solutions:\n",
    "    1. Hypothesis : The freq of these noise terms would be very much less than the freqeuncy of comapny names\n",
    "    2. We should do this on cluster frequency rather than the individual words as individual frequency can be biased and not reliable due to different names used\n",
    "        "
   ]
  },
  {
   "cell_type": "code",
   "execution_count": null,
   "metadata": {},
   "outputs": [],
   "source": []
  }
 ],
 "metadata": {
  "kernelspec": {
   "display_name": "Python 3",
   "language": "python",
   "name": "python3"
  },
  "language_info": {
   "codemirror_mode": {
    "name": "ipython",
    "version": 3
   },
   "file_extension": ".py",
   "mimetype": "text/x-python",
   "name": "python",
   "nbconvert_exporter": "python",
   "pygments_lexer": "ipython3",
   "version": "3.7.3"
  }
 },
 "nbformat": 4,
 "nbformat_minor": 2
}
